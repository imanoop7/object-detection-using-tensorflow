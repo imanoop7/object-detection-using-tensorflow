{
 "cells": [
  {
   "cell_type": "code",
   "execution_count": 1,
   "metadata": {},
   "outputs": [
    {
     "name": "stdout",
     "output_type": "stream",
     "text": [
      "Collecting opencv-pythonNote: you may need to restart the kernel to use updated packages.\n",
      "\n",
      "  Using cached opencv_python-4.10.0.84-cp37-abi3-win_amd64.whl.metadata (20 kB)\n",
      "Collecting numpy>=1.21.2 (from opencv-python)\n",
      "  Downloading numpy-2.1.0-cp312-cp312-win_amd64.whl.metadata (59 kB)\n",
      "Using cached opencv_python-4.10.0.84-cp37-abi3-win_amd64.whl (38.8 MB)\n",
      "Downloading numpy-2.1.0-cp312-cp312-win_amd64.whl (12.6 MB)\n",
      "   ---------------------------------------- 0.0/12.6 MB ? eta -:--:--\n",
      "   - -------------------------------------- 0.5/12.6 MB 2.8 MB/s eta 0:00:05\n",
      "   ---- ----------------------------------- 1.3/12.6 MB 3.0 MB/s eta 0:00:04\n",
      "   ----- ---------------------------------- 1.8/12.6 MB 3.1 MB/s eta 0:00:04\n",
      "   ------- -------------------------------- 2.4/12.6 MB 3.0 MB/s eta 0:00:04\n",
      "   ---------- ----------------------------- 3.1/12.6 MB 3.0 MB/s eta 0:00:04\n",
      "   ------------ --------------------------- 3.9/12.6 MB 3.0 MB/s eta 0:00:03\n",
      "   -------------- ------------------------- 4.5/12.6 MB 3.1 MB/s eta 0:00:03\n",
      "   ---------------- ----------------------- 5.2/12.6 MB 3.1 MB/s eta 0:00:03\n",
      "   ------------------- -------------------- 6.0/12.6 MB 3.1 MB/s eta 0:00:03\n",
      "   -------------------- ------------------- 6.6/12.6 MB 3.1 MB/s eta 0:00:02\n",
      "   --------------------- ------------------ 6.8/12.6 MB 3.0 MB/s eta 0:00:02\n",
      "   ---------------------- ----------------- 7.1/12.6 MB 2.9 MB/s eta 0:00:02\n",
      "   ----------------------- ---------------- 7.3/12.6 MB 2.8 MB/s eta 0:00:02\n",
      "   ------------------------ --------------- 7.6/12.6 MB 2.6 MB/s eta 0:00:02\n",
      "   ------------------------- -------------- 8.1/12.6 MB 2.5 MB/s eta 0:00:02\n",
      "   --------------------------- ------------ 8.7/12.6 MB 2.5 MB/s eta 0:00:02\n",
      "   ------------------------------ --------- 9.4/12.6 MB 2.6 MB/s eta 0:00:02\n",
      "   ------------------------------- -------- 10.0/12.6 MB 2.6 MB/s eta 0:00:02\n",
      "   --------------------------------- ------ 10.5/12.6 MB 2.6 MB/s eta 0:00:01\n",
      "   ---------------------------------- ----- 10.7/12.6 MB 2.5 MB/s eta 0:00:01\n",
      "   ----------------------------------- ---- 11.3/12.6 MB 2.5 MB/s eta 0:00:01\n",
      "   -------------------------------------- - 12.1/12.6 MB 2.5 MB/s eta 0:00:01\n",
      "   ---------------------------------------  12.3/12.6 MB 2.5 MB/s eta 0:00:01\n",
      "   ---------------------------------------- 12.6/12.6 MB 2.5 MB/s eta 0:00:00\n",
      "Installing collected packages: numpy, opencv-python\n",
      "Successfully installed numpy-2.1.0 opencv-python-4.10.0.84\n"
     ]
    }
   ],
   "source": [
    "pip install opencv-python"
   ]
  },
  {
   "cell_type": "code",
   "execution_count": 3,
   "metadata": {},
   "outputs": [],
   "source": [
    "import cv2\n",
    "import uuid\n",
    "import os \n",
    "import time"
   ]
  },
  {
   "cell_type": "code",
   "execution_count": 4,
   "metadata": {},
   "outputs": [],
   "source": [
    "labels = [\"thumsup\", \"thumbsdown\", \"thankyou\", \"livelong\"]\n",
    "number_imgs = 5"
   ]
  },
  {
   "cell_type": "code",
   "execution_count": 5,
   "metadata": {},
   "outputs": [],
   "source": [
    "IMAGES_PATH = os.path.join('Tensorflow', 'workspace', 'images', 'collectedimages')"
   ]
  },
  {
   "cell_type": "code",
   "execution_count": 6,
   "metadata": {},
   "outputs": [],
   "source": [
    "if not os.path.exists(IMAGES_PATH):\n",
    "    if os.name == \"posix\":\n",
    "        !mkdir -p {IMAGES_PATH}\n",
    "    if os.name == \"nt\":\n",
    "        !mkdir {IMAGES_PATH}\n",
    "for label in labels:\n",
    "    path = os.path.join(IMAGES_PATH, label)\n",
    "    if not os.path.exists(path):\n",
    "        !mkdir {path}"
   ]
  },
  {
   "cell_type": "code",
   "execution_count": 9,
   "metadata": {},
   "outputs": [
    {
     "name": "stdout",
     "output_type": "stream",
     "text": [
      "Collecting images for thumsup\n",
      "Collecting image 0\n",
      "Collecting image 1\n",
      "Collecting image 2\n",
      "Collecting image 3\n",
      "Collecting image 4\n",
      "Collecting images for thumbsdown\n",
      "Collecting image 0\n",
      "Collecting image 1\n",
      "Collecting image 2\n",
      "Collecting image 3\n",
      "Collecting image 4\n",
      "Collecting images for thankyou\n",
      "Collecting image 0\n",
      "Collecting image 1\n",
      "Collecting image 2\n",
      "Collecting image 3\n",
      "Collecting image 4\n",
      "Collecting images for livelong\n",
      "Collecting image 0\n",
      "Collecting image 1\n",
      "Collecting image 2\n",
      "Collecting image 3\n",
      "Collecting image 4\n"
     ]
    }
   ],
   "source": [
    "for label in labels:\n",
    "    cap = cv2.VideoCapture(0)\n",
    "    print(\"Collecting images for {}\".format(label))\n",
    "    time.sleep(5)\n",
    "    for imgnum in range(number_imgs):\n",
    "        print(\"Collecting image {}\". format(imgnum))\n",
    "        ret, frame = cap.read()\n",
    "        imgname = os.path.join(IMAGES_PATH, label+\".\"+'{}.jpg'.format(str(uuid.uuid1())))\n",
    "        cv2.imwrite(imgname, frame)\n",
    "        cv2. imshow(\"frame\", frame)\n",
    "        time.sleep(2)\n",
    "\n",
    "        if cv2.waitKey(1) &0xFF == ord('q'):\n",
    "            break\n",
    "\n",
    "\n",
    "cap.release()\n",
    "cv2.destroyAllWindows()"
   ]
  },
  {
   "cell_type": "code",
   "execution_count": null,
   "metadata": {},
   "outputs": [],
   "source": []
  },
  {
   "cell_type": "code",
   "execution_count": null,
   "metadata": {},
   "outputs": [],
   "source": []
  },
  {
   "cell_type": "code",
   "execution_count": null,
   "metadata": {},
   "outputs": [],
   "source": []
  },
  {
   "cell_type": "code",
   "execution_count": null,
   "metadata": {},
   "outputs": [],
   "source": []
  }
 ],
 "metadata": {
  "kernelspec": {
   "display_name": ".venv",
   "language": "python",
   "name": "python3"
  },
  "language_info": {
   "codemirror_mode": {
    "name": "ipython",
    "version": 3
   },
   "file_extension": ".py",
   "mimetype": "text/x-python",
   "name": "python",
   "nbconvert_exporter": "python",
   "pygments_lexer": "ipython3",
   "version": "3.12.3"
  }
 },
 "nbformat": 4,
 "nbformat_minor": 2
}
